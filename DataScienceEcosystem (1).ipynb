{
 "cells": [
  {
   "cell_type": "markdown",
   "id": "a661087a-447e-4017-a452-15b8ec148a61",
   "metadata": {},
   "source": [
    "# Data Science Tools and Ecosystem\n"
   ]
  },
  {
   "cell_type": "markdown",
   "id": "20c9f393-a34a-4d4b-8df2-fbbcf6c2d8a8",
   "metadata": {},
   "source": [
    "## In this notebook, Data Science Tools and Ecosystem are summarized."
   ]
  },
  {
   "cell_type": "markdown",
   "id": "40d7e14b-d632-405c-9a66-d2e355770498",
   "metadata": {},
   "source": [
    "**Objectives:**\n",
    "\n",
    "- List popular Languages in Data Science\n",
    "- List common Libraries used by Data Scientists\n",
    "- Create a Table\n",
    "- Practice adding comments to code cells in Python\n",
    "- Use Arithmetic Expressions to create an output\n"
   ]
  },
  {
   "cell_type": "markdown",
   "id": "99150f6f-26b5-47c4-8e35-c7a7f7cef895",
   "metadata": {},
   "source": [
    "### Some of the popular Languages that Data Scientists use are:"
   ]
  },
  {
   "cell_type": "markdown",
   "id": "33ad8ea4-2065-4c48-af87-34a914300cdd",
   "metadata": {},
   "source": [
    "1. **Python**\n",
    "\n",
    "2. **R**\n",
    "   \n",
    "3. **SQL**\n",
    "  \n",
    "4. **Julia**\n",
    "  \n",
    "\n"
   ]
  },
  {
   "cell_type": "markdown",
   "id": "86ef5c4d-6baf-4b45-aed3-d99e5e634465",
   "metadata": {},
   "source": [
    "### Some of the common Libraries used by Data Scientists are:"
   ]
  },
  {
   "cell_type": "markdown",
   "id": "9105ed9d-2e44-4156-9d79-428c5af934c6",
   "metadata": {},
   "source": [
    "1. **NumPy**\n",
    "   \n",
    "\n",
    "2. **pandas**\n",
    "   \n",
    "\n",
    "3. **scikit-learn**\n",
    "   \n",
    "\n",
    "4. **TensorFlow**\n"
   ]
  },
  {
   "cell_type": "markdown",
   "id": "3d5443a8-7f2f-4a26-a15e-60a9acd60284",
   "metadata": {},
   "source": [
    "| Data Science Tools      |\n",
    "|--------------------------|\n",
    "| Jupyter Notebook         |\n",
    "| RStudio                  |\n",
    "| VS Code with Python      |\n"
   ]
  },
  {
   "cell_type": "markdown",
   "id": "e3cec0d5-aeab-4d69-81d4-5cac6b986f77",
   "metadata": {},
   "source": [
    "### Below are a few examples of evaluating arithmetic expressions in Python"
   ]
  },
  {
   "cell_type": "code",
   "execution_count": 6,
   "id": "3bbdbb32-88cc-458b-922e-8e48a8228a84",
   "metadata": {},
   "outputs": [
    {
     "name": "stdout",
     "output_type": "stream",
     "text": [
      "This a simple arithmetic expression to mutiply then add integers\n"
     ]
    },
    {
     "data": {
      "text/plain": [
       "17"
      ]
     },
     "execution_count": 6,
     "metadata": {},
     "output_type": "execute_result"
    }
   ],
   "source": [
    "\n",
    "print(\"This a simple arithmetic expression to mutiply then add integers\")\n",
    "\n",
    "(3*4)+5"
   ]
  },
  {
   "cell_type": "code",
   "execution_count": 7,
   "id": "df72b6e8-3a8b-42b1-b3d8-9b7823acf034",
   "metadata": {},
   "outputs": [
    {
     "name": "stdout",
     "output_type": "stream",
     "text": [
      "200 minutes is equal to 3.3333333333333335 hours.\n"
     ]
    }
   ],
   "source": [
    "# This will convert 200 minutes to hours by dividing by 60.\n",
    "minutes = 200\n",
    "hours = minutes / 60\n",
    "\n",
    "# Display the result\n",
    "print(\"200 minutes is equal to\", hours, \"hours.\")\n"
   ]
  },
  {
   "cell_type": "markdown",
   "id": "df4acfce-5393-4fa2-9142-bca5e5de380b",
   "metadata": {},
   "source": [
    "## Author\n",
    "\n",
    "Nader\n"
   ]
  },
  {
   "cell_type": "code",
   "execution_count": null,
   "id": "ae4f3486-7872-4ac4-8827-0791cd3aa134",
   "metadata": {},
   "outputs": [],
   "source": []
  }
 ],
 "metadata": {
  "kernelspec": {
   "display_name": "Python 3 (ipykernel)",
   "language": "python",
   "name": "python3"
  },
  "language_info": {
   "codemirror_mode": {
    "name": "ipython",
    "version": 3
   },
   "file_extension": ".py",
   "mimetype": "text/x-python",
   "name": "python",
   "nbconvert_exporter": "python",
   "pygments_lexer": "ipython3",
   "version": "3.9.7"
  }
 },
 "nbformat": 4,
 "nbformat_minor": 5
}
